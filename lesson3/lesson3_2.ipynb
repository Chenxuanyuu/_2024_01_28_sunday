{
 "cells": [
  {
   "cell_type": "code",
   "execution_count": 13,
   "metadata": {},
   "outputs": [
    {
     "name": "stdout",
     "output_type": "stream",
     "text": [
      "您的身高:169公分\n",
      "您的體重:55公斤\n",
      "您的BMI:19.26\n"
     ]
    }
   ],
   "source": [
    "#BMI值計算公式:  BMI = 體重(公斤)/身高2(公尺2)\n",
    "\n",
    "height = eval(input(\"請輸入身高(公分):\"))\n",
    "weight = eval(input(\"請輸入體重(公斤):\"))\n",
    "bmi = weight / (height/100)**2\n",
    "print('您的身高:',height ,'公分',sep='')\n",
    "print('您的體重:',weight, '公斤',sep='')\n",
    "print('您的BMI:',round(bmi,ndigits=2),sep='')"
   ]
  },
  {
   "cell_type": "code",
   "execution_count": 9,
   "metadata": {},
   "outputs": [
    {
     "data": {
      "text/plain": [
       "19.257"
      ]
     },
     "execution_count": 9,
     "metadata": {},
     "output_type": "execute_result"
    }
   ],
   "source": [
    "num1 = 19.257028815517668\n",
    "round(num1,ndigits=3)"
   ]
  },
  {
   "cell_type": "code",
   "execution_count": 10,
   "metadata": {},
   "outputs": [
    {
     "data": {
      "text/plain": [
       "'我的身高是169公分'"
      ]
     },
     "execution_count": 10,
     "metadata": {},
     "output_type": "execute_result"
    }
   ],
   "source": [
    "#字串差補(字串格式化)\n",
    "heught = 169\n",
    "#字串和變數整合成為全新的字串\n",
    "f'我的身高是{heught}公分'"
   ]
  },
  {
   "cell_type": "code",
   "execution_count": 18,
   "metadata": {},
   "outputs": [
    {
     "name": "stdout",
     "output_type": "stream",
     "text": [
      "您的身高:170公分\n",
      "您的體重:54公斤\n",
      "您的BMI:18.69\n"
     ]
    }
   ],
   "source": [
    "#BMI值計算公式:  BMI = 體重(公斤)/身高2(公尺2)\n",
    "\n",
    "height = eval(input(\"請輸入身高(公分):\"))\n",
    "weight = eval(input(\"請輸入體重(公斤):\"))\n",
    "bmi = weight / (height/100)**2\n",
    "#利用字串插補\n",
    "print(f'您的身高:{height}公分')\n",
    "print(f'您的體重:{weight}公斤')\n",
    "#字串格式化的格式化文字語法\n",
    "print(f'您的BMI:{bmi:.2f}')"
   ]
  },
  {
   "cell_type": "code",
   "execution_count": null,
   "metadata": {},
   "outputs": [],
   "source": [
    "side1 = eval(input(\"請輸入直角三角形的斜邊\"))\n",
    "side2 = eval(input(\"請輸入直角三角形的對邊\"))"
   ]
  }
 ],
 "metadata": {
  "kernelspec": {
   "display_name": "Python 3",
   "language": "python",
   "name": "python3"
  },
  "language_info": {
   "codemirror_mode": {
    "name": "ipython",
    "version": 3
   },
   "file_extension": ".py",
   "mimetype": "text/x-python",
   "name": "python",
   "nbconvert_exporter": "python",
   "pygments_lexer": "ipython3",
   "version": "3.10.13"
  }
 },
 "nbformat": 4,
 "nbformat_minor": 2
}
